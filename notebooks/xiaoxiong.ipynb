{
 "cells": [
  {
   "cell_type": "code",
   "execution_count": 2,
   "metadata": {},
   "outputs": [],
   "source": [
    "import scipy.io as sio\n",
    "import numpy as np"
   ]
  },
  {
   "cell_type": "code",
   "execution_count": 11,
   "metadata": {},
   "outputs": [
    {
     "name": "stdout",
     "output_type": "stream",
     "text": [
      "(1, 196)\n"
     ]
    }
   ],
   "source": [
    "data = sio.loadmat(\"/Users/HZzone/Desktop/Stanford-Cars-Classification/data/cars_meta.mat\")\n",
    "data = data[\"class_names\"]\n",
    "print(data.shape)"
   ]
  },
  {
   "cell_type": "code",
   "execution_count": 10,
   "metadata": {},
   "outputs": [
    {
     "name": "stdout",
     "output_type": "stream",
     "text": [
      "(8144,)\n",
      "(8144, 6, 1)\n",
      "(1, 8144, 6)\n",
      "(8144, 6)\n",
      "[[39 116 569 375 14 u'00001.jpg']\n",
      " [36 116 868 587 3 u'00002.jpg']\n",
      " [85 109 601 381 91 u'00003.jpg']\n",
      " ..., \n",
      " [26 246 660 449 163 u'08142.jpg']\n",
      " [78 526 1489 908 112 u'08143.jpg']\n",
      " [20 240 862 677 17 u'08144.jpg']]\n",
      "1\n"
     ]
    }
   ],
   "source": [
    "data = sio.loadmat(\"../data/cars_train_annos.mat\")\n",
    "data = data[\"annotations\"]\n",
    "print(data[0].shape)\n",
    "data = np.array(data[0].tolist())\n",
    "print(data.shape)\n",
    "data = np.transpose(data, (2, 0, 1))\n",
    "print(data.shape)\n",
    "data = data[0]\n",
    "print(data.shape)\n",
    "print(data)\n",
    "min_classes = min(data[:, -2])\n",
    "print(min_classes)"
   ]
  },
  {
   "cell_type": "code",
   "execution_count": null,
   "metadata": {},
   "outputs": [],
   "source": []
  }
 ],
 "metadata": {
  "kernelspec": {
   "display_name": "Python 2",
   "language": "python",
   "name": "python2"
  },
  "language_info": {
   "codemirror_mode": {
    "name": "ipython",
    "version": 2
   },
   "file_extension": ".py",
   "mimetype": "text/x-python",
   "name": "python",
   "nbconvert_exporter": "python",
   "pygments_lexer": "ipython2",
   "version": "2.7.12"
  }
 },
 "nbformat": 4,
 "nbformat_minor": 1
}
